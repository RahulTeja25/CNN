{
 "cells": [
  {
   "cell_type": "code",
   "execution_count": 27,
   "metadata": {
    "id": "c5yGyGmXf39_"
   },
   "outputs": [],
   "source": [
    "import numpy as np\n",
    "import pandas as pd\n",
    "import math\n",
    "import matplotlib.pyplot as plt\n",
    "import seaborn as sns"
   ]
  },
  {
   "cell_type": "code",
   "execution_count": 28,
   "metadata": {
    "colab": {
     "base_uri": "https://localhost:8080/",
     "height": 423
    },
    "id": "nM84bAhMgDQz",
    "outputId": "21acaafe-54c4-4d65-b570-72c1fc61bc4f"
   },
   "outputs": [
    {
     "data": {
      "text/html": [
       "<div>\n",
       "<style scoped>\n",
       "    .dataframe tbody tr th:only-of-type {\n",
       "        vertical-align: middle;\n",
       "    }\n",
       "\n",
       "    .dataframe tbody tr th {\n",
       "        vertical-align: top;\n",
       "    }\n",
       "\n",
       "    .dataframe thead th {\n",
       "        text-align: right;\n",
       "    }\n",
       "</style>\n",
       "<table border=\"1\" class=\"dataframe\">\n",
       "  <thead>\n",
       "    <tr style=\"text-align: right;\">\n",
       "      <th></th>\n",
       "      <th>f1</th>\n",
       "      <th>f2</th>\n",
       "      <th>f3</th>\n",
       "      <th>f4</th>\n",
       "      <th>f5</th>\n",
       "      <th>f6</th>\n",
       "      <th>f7</th>\n",
       "      <th>target</th>\n",
       "    </tr>\n",
       "  </thead>\n",
       "  <tbody>\n",
       "    <tr>\n",
       "      <th>0</th>\n",
       "      <td>6</td>\n",
       "      <td>148</td>\n",
       "      <td>72</td>\n",
       "      <td>35</td>\n",
       "      <td>0</td>\n",
       "      <td>33.6</td>\n",
       "      <td>0.627</td>\n",
       "      <td>1</td>\n",
       "    </tr>\n",
       "    <tr>\n",
       "      <th>1</th>\n",
       "      <td>1</td>\n",
       "      <td>85</td>\n",
       "      <td>66</td>\n",
       "      <td>29</td>\n",
       "      <td>0</td>\n",
       "      <td>26.6</td>\n",
       "      <td>0.351</td>\n",
       "      <td>0</td>\n",
       "    </tr>\n",
       "    <tr>\n",
       "      <th>2</th>\n",
       "      <td>8</td>\n",
       "      <td>183</td>\n",
       "      <td>64</td>\n",
       "      <td>0</td>\n",
       "      <td>0</td>\n",
       "      <td>23.3</td>\n",
       "      <td>0.672</td>\n",
       "      <td>1</td>\n",
       "    </tr>\n",
       "    <tr>\n",
       "      <th>3</th>\n",
       "      <td>1</td>\n",
       "      <td>89</td>\n",
       "      <td>66</td>\n",
       "      <td>23</td>\n",
       "      <td>94</td>\n",
       "      <td>28.1</td>\n",
       "      <td>0.167</td>\n",
       "      <td>0</td>\n",
       "    </tr>\n",
       "    <tr>\n",
       "      <th>4</th>\n",
       "      <td>0</td>\n",
       "      <td>137</td>\n",
       "      <td>40</td>\n",
       "      <td>35</td>\n",
       "      <td>168</td>\n",
       "      <td>43.1</td>\n",
       "      <td>2.288</td>\n",
       "      <td>1</td>\n",
       "    </tr>\n",
       "    <tr>\n",
       "      <th>...</th>\n",
       "      <td>...</td>\n",
       "      <td>...</td>\n",
       "      <td>...</td>\n",
       "      <td>...</td>\n",
       "      <td>...</td>\n",
       "      <td>...</td>\n",
       "      <td>...</td>\n",
       "      <td>...</td>\n",
       "    </tr>\n",
       "    <tr>\n",
       "      <th>761</th>\n",
       "      <td>9</td>\n",
       "      <td>89</td>\n",
       "      <td>62</td>\n",
       "      <td>0</td>\n",
       "      <td>0</td>\n",
       "      <td>22.5</td>\n",
       "      <td>e</td>\n",
       "      <td>0</td>\n",
       "    </tr>\n",
       "    <tr>\n",
       "      <th>762</th>\n",
       "      <td>10</td>\n",
       "      <td>101</td>\n",
       "      <td>76</td>\n",
       "      <td>48</td>\n",
       "      <td>180</td>\n",
       "      <td>d</td>\n",
       "      <td>0.171</td>\n",
       "      <td>0</td>\n",
       "    </tr>\n",
       "    <tr>\n",
       "      <th>763</th>\n",
       "      <td>2</td>\n",
       "      <td>122</td>\n",
       "      <td>70</td>\n",
       "      <td>27</td>\n",
       "      <td>b</td>\n",
       "      <td>36.8</td>\n",
       "      <td>0.34</td>\n",
       "      <td>0</td>\n",
       "    </tr>\n",
       "    <tr>\n",
       "      <th>764</th>\n",
       "      <td>c</td>\n",
       "      <td>121</td>\n",
       "      <td>72</td>\n",
       "      <td>23</td>\n",
       "      <td>112</td>\n",
       "      <td>26.2</td>\n",
       "      <td>0.245</td>\n",
       "      <td>0</td>\n",
       "    </tr>\n",
       "    <tr>\n",
       "      <th>765</th>\n",
       "      <td>1</td>\n",
       "      <td>126</td>\n",
       "      <td>60</td>\n",
       "      <td>a</td>\n",
       "      <td>0</td>\n",
       "      <td>30.1</td>\n",
       "      <td>0.349</td>\n",
       "      <td>1</td>\n",
       "    </tr>\n",
       "  </tbody>\n",
       "</table>\n",
       "<p>766 rows × 8 columns</p>\n",
       "</div>"
      ],
      "text/plain": [
       "     f1   f2  f3  f4   f5    f6     f7  target\n",
       "0     6  148  72  35    0  33.6  0.627       1\n",
       "1     1   85  66  29    0  26.6  0.351       0\n",
       "2     8  183  64   0    0  23.3  0.672       1\n",
       "3     1   89  66  23   94  28.1  0.167       0\n",
       "4     0  137  40  35  168  43.1  2.288       1\n",
       "..   ..  ...  ..  ..  ...   ...    ...     ...\n",
       "761   9   89  62   0    0  22.5      e       0\n",
       "762  10  101  76  48  180     d  0.171       0\n",
       "763   2  122  70  27    b  36.8   0.34       0\n",
       "764   c  121  72  23  112  26.2  0.245       0\n",
       "765   1  126  60   a    0  30.1  0.349       1\n",
       "\n",
       "[766 rows x 8 columns]"
      ]
     },
     "execution_count": 28,
     "metadata": {},
     "output_type": "execute_result"
    }
   ],
   "source": [
    "file=\"dataset.csv\"\n",
    "df=pd.read_csv(file)\n",
    "df.dropna(inplace=True)\n",
    "df = df.reset_index(drop=True)\n",
    "df"
   ]
  },
  {
   "cell_type": "code",
   "execution_count": 29,
   "metadata": {
    "id": "EYcWJp58TYq-"
   },
   "outputs": [],
   "source": [
    "for i in df.columns:\n",
    "  df[i] = pd.to_numeric(df[i], errors='coerce')"
   ]
  },
  {
   "cell_type": "code",
   "execution_count": 30,
   "metadata": {
    "id": "mh0xoJefTdmv"
   },
   "outputs": [],
   "source": [
    "df.dropna(inplace=True)"
   ]
  },
  {
   "cell_type": "code",
   "execution_count": 31,
   "metadata": {
    "id": "D0ENBt0uUSbN"
   },
   "outputs": [],
   "source": [
    "df['f3']=df['f3'].astype('float')\n",
    "# for i in range(0,7):\n",
    "#   df[i]=df[i].astype('float32')"
   ]
  },
  {
   "cell_type": "code",
   "execution_count": 32,
   "metadata": {
    "id": "fKe21RbNiSgi"
   },
   "outputs": [],
   "source": [
    "df['target']=df['target'].astype('float')"
   ]
  },
  {
   "cell_type": "code",
   "execution_count": 33,
   "metadata": {
    "colab": {
     "base_uri": "https://localhost:8080/"
    },
    "id": "DyBtBfrJU0Uz",
    "outputId": "ceb3690f-c749-4562-8dbc-42d164d673a7"
   },
   "outputs": [
    {
     "data": {
      "text/plain": [
       "f1        float64\n",
       "f2        float64\n",
       "f3        float64\n",
       "f4        float64\n",
       "f5        float64\n",
       "f6        float64\n",
       "f7        float64\n",
       "target    float64\n",
       "dtype: object"
      ]
     },
     "execution_count": 33,
     "metadata": {},
     "output_type": "execute_result"
    }
   ],
   "source": [
    "df.dtypes"
   ]
  },
  {
   "cell_type": "code",
   "execution_count": 34,
   "metadata": {
    "colab": {
     "base_uri": "https://localhost:8080/",
     "height": 300
    },
    "id": "E_8yZhgtgH_G",
    "outputId": "1e9ef532-56cd-454c-a0d9-33e0fe1da133"
   },
   "outputs": [
    {
     "data": {
      "text/html": [
       "<div>\n",
       "<style scoped>\n",
       "    .dataframe tbody tr th:only-of-type {\n",
       "        vertical-align: middle;\n",
       "    }\n",
       "\n",
       "    .dataframe tbody tr th {\n",
       "        vertical-align: top;\n",
       "    }\n",
       "\n",
       "    .dataframe thead th {\n",
       "        text-align: right;\n",
       "    }\n",
       "</style>\n",
       "<table border=\"1\" class=\"dataframe\">\n",
       "  <thead>\n",
       "    <tr style=\"text-align: right;\">\n",
       "      <th></th>\n",
       "      <th>f1</th>\n",
       "      <th>f2</th>\n",
       "      <th>f3</th>\n",
       "      <th>f4</th>\n",
       "      <th>f5</th>\n",
       "      <th>f6</th>\n",
       "      <th>f7</th>\n",
       "      <th>target</th>\n",
       "    </tr>\n",
       "  </thead>\n",
       "  <tbody>\n",
       "    <tr>\n",
       "      <th>count</th>\n",
       "      <td>760.000000</td>\n",
       "      <td>760.000000</td>\n",
       "      <td>760.000000</td>\n",
       "      <td>760.000000</td>\n",
       "      <td>760.000000</td>\n",
       "      <td>760.000000</td>\n",
       "      <td>760.000000</td>\n",
       "      <td>760.000000</td>\n",
       "    </tr>\n",
       "    <tr>\n",
       "      <th>mean</th>\n",
       "      <td>3.834211</td>\n",
       "      <td>120.969737</td>\n",
       "      <td>69.119737</td>\n",
       "      <td>20.507895</td>\n",
       "      <td>80.234211</td>\n",
       "      <td>31.998684</td>\n",
       "      <td>0.473250</td>\n",
       "      <td>0.350000</td>\n",
       "    </tr>\n",
       "    <tr>\n",
       "      <th>std</th>\n",
       "      <td>3.364762</td>\n",
       "      <td>32.023301</td>\n",
       "      <td>19.446088</td>\n",
       "      <td>15.958029</td>\n",
       "      <td>115.581444</td>\n",
       "      <td>7.899724</td>\n",
       "      <td>0.332277</td>\n",
       "      <td>0.477284</td>\n",
       "    </tr>\n",
       "    <tr>\n",
       "      <th>min</th>\n",
       "      <td>0.000000</td>\n",
       "      <td>0.000000</td>\n",
       "      <td>0.000000</td>\n",
       "      <td>0.000000</td>\n",
       "      <td>0.000000</td>\n",
       "      <td>0.000000</td>\n",
       "      <td>0.078000</td>\n",
       "      <td>0.000000</td>\n",
       "    </tr>\n",
       "    <tr>\n",
       "      <th>25%</th>\n",
       "      <td>1.000000</td>\n",
       "      <td>99.000000</td>\n",
       "      <td>63.500000</td>\n",
       "      <td>0.000000</td>\n",
       "      <td>0.000000</td>\n",
       "      <td>27.300000</td>\n",
       "      <td>0.243750</td>\n",
       "      <td>0.000000</td>\n",
       "    </tr>\n",
       "    <tr>\n",
       "      <th>50%</th>\n",
       "      <td>3.000000</td>\n",
       "      <td>117.000000</td>\n",
       "      <td>72.000000</td>\n",
       "      <td>23.000000</td>\n",
       "      <td>36.000000</td>\n",
       "      <td>32.000000</td>\n",
       "      <td>0.375500</td>\n",
       "      <td>0.000000</td>\n",
       "    </tr>\n",
       "    <tr>\n",
       "      <th>75%</th>\n",
       "      <td>6.000000</td>\n",
       "      <td>141.000000</td>\n",
       "      <td>80.000000</td>\n",
       "      <td>32.000000</td>\n",
       "      <td>128.250000</td>\n",
       "      <td>36.600000</td>\n",
       "      <td>0.627500</td>\n",
       "      <td>1.000000</td>\n",
       "    </tr>\n",
       "    <tr>\n",
       "      <th>max</th>\n",
       "      <td>17.000000</td>\n",
       "      <td>199.000000</td>\n",
       "      <td>122.000000</td>\n",
       "      <td>99.000000</td>\n",
       "      <td>846.000000</td>\n",
       "      <td>67.100000</td>\n",
       "      <td>2.420000</td>\n",
       "      <td>1.000000</td>\n",
       "    </tr>\n",
       "  </tbody>\n",
       "</table>\n",
       "</div>"
      ],
      "text/plain": [
       "               f1          f2          f3          f4          f5          f6  \\\n",
       "count  760.000000  760.000000  760.000000  760.000000  760.000000  760.000000   \n",
       "mean     3.834211  120.969737   69.119737   20.507895   80.234211   31.998684   \n",
       "std      3.364762   32.023301   19.446088   15.958029  115.581444    7.899724   \n",
       "min      0.000000    0.000000    0.000000    0.000000    0.000000    0.000000   \n",
       "25%      1.000000   99.000000   63.500000    0.000000    0.000000   27.300000   \n",
       "50%      3.000000  117.000000   72.000000   23.000000   36.000000   32.000000   \n",
       "75%      6.000000  141.000000   80.000000   32.000000  128.250000   36.600000   \n",
       "max     17.000000  199.000000  122.000000   99.000000  846.000000   67.100000   \n",
       "\n",
       "               f7      target  \n",
       "count  760.000000  760.000000  \n",
       "mean     0.473250    0.350000  \n",
       "std      0.332277    0.477284  \n",
       "min      0.078000    0.000000  \n",
       "25%      0.243750    0.000000  \n",
       "50%      0.375500    0.000000  \n",
       "75%      0.627500    1.000000  \n",
       "max      2.420000    1.000000  "
      ]
     },
     "execution_count": 34,
     "metadata": {},
     "output_type": "execute_result"
    }
   ],
   "source": [
    "df.describe()"
   ]
  },
  {
   "cell_type": "code",
   "execution_count": 35,
   "metadata": {
    "colab": {
     "base_uri": "https://localhost:8080/"
    },
    "id": "45jXlxbhgUsF",
    "outputId": "cb5f1ec9-f443-4030-8684-5092d90afbe7"
   },
   "outputs": [
    {
     "data": {
      "text/plain": [
       "(760, 8)"
      ]
     },
     "execution_count": 35,
     "metadata": {},
     "output_type": "execute_result"
    }
   ],
   "source": [
    "df.shape"
   ]
  },
  {
   "cell_type": "code",
   "execution_count": 36,
   "metadata": {
    "colab": {
     "base_uri": "https://localhost:8080/"
    },
    "id": "cCCEdp5lgawn",
    "outputId": "bf12fe61-e1a8-4bea-ed29-20f404535957"
   },
   "outputs": [
    {
     "data": {
      "text/plain": [
       "f1        float64\n",
       "f2        float64\n",
       "f3        float64\n",
       "f4        float64\n",
       "f5        float64\n",
       "f6        float64\n",
       "f7        float64\n",
       "target    float64\n",
       "dtype: object"
      ]
     },
     "execution_count": 36,
     "metadata": {},
     "output_type": "execute_result"
    }
   ],
   "source": [
    "df.dtypes"
   ]
  },
  {
   "cell_type": "code",
   "execution_count": 37,
   "metadata": {
    "colab": {
     "base_uri": "https://localhost:8080/"
    },
    "id": "_ZoPxoEMgbwL",
    "outputId": "223fd2cd-3f11-43f8-e979-8c8e21ebe221"
   },
   "outputs": [
    {
     "data": {
      "text/plain": [
       "Index(['f1', 'f2', 'f3', 'f4', 'f5', 'f6', 'f7', 'target'], dtype='object')"
      ]
     },
     "execution_count": 37,
     "metadata": {},
     "output_type": "execute_result"
    }
   ],
   "source": [
    "df.columns"
   ]
  },
  {
   "cell_type": "code",
   "execution_count": 38,
   "metadata": {
    "colab": {
     "base_uri": "https://localhost:8080/"
    },
    "id": "W-VZluPRghJB",
    "outputId": "2f4d9a24-5c29-404d-d89d-e45d48f85598"
   },
   "outputs": [
    {
     "name": "stdout",
     "output_type": "stream",
     "text": [
      "0    1.0\n",
      "Name: f1, dtype: float64\n",
      "0     99.0\n",
      "1    100.0\n",
      "Name: f2, dtype: float64\n",
      "0    70.0\n",
      "Name: f3, dtype: float64\n",
      "0    0.0\n",
      "Name: f4, dtype: float64\n",
      "0    0.0\n",
      "Name: f5, dtype: float64\n",
      "0    32.0\n",
      "Name: f6, dtype: float64\n",
      "0    0.254\n",
      "1    0.258\n",
      "Name: f7, dtype: float64\n",
      "0    0.0\n",
      "Name: target, dtype: float64\n"
     ]
    }
   ],
   "source": [
    "print(df[\"f1\"].mode())\n",
    "print(df[\"f2\"].mode())\n",
    "print(df[\"f3\"].mode())\n",
    "print(df[\"f4\"].mode())\n",
    "print(df[\"f5\"].mode())\n",
    "print(df[\"f6\"].mode())\n",
    "print(df[\"f7\"].mode())\n",
    "print(df[\"target\"].mode())"
   ]
  },
  {
   "cell_type": "code",
   "execution_count": 220,
   "metadata": {
    "colab": {
     "base_uri": "https://localhost:8080/",
     "height": 300
    },
    "id": "xK336cx5V9oJ",
    "outputId": "7f95883e-cbe7-4a77-b3ce-22710d12e015"
   },
   "outputs": [
    {
     "data": {
      "text/html": [
       "<div>\n",
       "<style scoped>\n",
       "    .dataframe tbody tr th:only-of-type {\n",
       "        vertical-align: middle;\n",
       "    }\n",
       "\n",
       "    .dataframe tbody tr th {\n",
       "        vertical-align: top;\n",
       "    }\n",
       "\n",
       "    .dataframe thead th {\n",
       "        text-align: right;\n",
       "    }\n",
       "</style>\n",
       "<table border=\"1\" class=\"dataframe\">\n",
       "  <thead>\n",
       "    <tr style=\"text-align: right;\">\n",
       "      <th></th>\n",
       "      <th>f1</th>\n",
       "      <th>f2</th>\n",
       "      <th>f3</th>\n",
       "      <th>f4</th>\n",
       "      <th>f5</th>\n",
       "      <th>f6</th>\n",
       "      <th>f7</th>\n",
       "      <th>target</th>\n",
       "    </tr>\n",
       "  </thead>\n",
       "  <tbody>\n",
       "    <tr>\n",
       "      <th>f1</th>\n",
       "      <td>1.000000</td>\n",
       "      <td>0.129712</td>\n",
       "      <td>0.140772</td>\n",
       "      <td>-0.085733</td>\n",
       "      <td>-0.076051</td>\n",
       "      <td>0.016894</td>\n",
       "      <td>-0.029486</td>\n",
       "      <td>0.224872</td>\n",
       "    </tr>\n",
       "    <tr>\n",
       "      <th>f2</th>\n",
       "      <td>0.129712</td>\n",
       "      <td>1.000000</td>\n",
       "      <td>0.151915</td>\n",
       "      <td>0.057686</td>\n",
       "      <td>0.333169</td>\n",
       "      <td>0.217232</td>\n",
       "      <td>0.137290</td>\n",
       "      <td>0.464028</td>\n",
       "    </tr>\n",
       "    <tr>\n",
       "      <th>f3</th>\n",
       "      <td>0.140772</td>\n",
       "      <td>0.151915</td>\n",
       "      <td>1.000000</td>\n",
       "      <td>0.206237</td>\n",
       "      <td>0.087869</td>\n",
       "      <td>0.281387</td>\n",
       "      <td>0.042023</td>\n",
       "      <td>0.065462</td>\n",
       "    </tr>\n",
       "    <tr>\n",
       "      <th>f4</th>\n",
       "      <td>-0.085733</td>\n",
       "      <td>0.057686</td>\n",
       "      <td>0.206237</td>\n",
       "      <td>1.000000</td>\n",
       "      <td>0.437391</td>\n",
       "      <td>0.391973</td>\n",
       "      <td>0.185557</td>\n",
       "      <td>0.078517</td>\n",
       "    </tr>\n",
       "    <tr>\n",
       "      <th>f5</th>\n",
       "      <td>-0.076051</td>\n",
       "      <td>0.333169</td>\n",
       "      <td>0.087869</td>\n",
       "      <td>0.437391</td>\n",
       "      <td>1.000000</td>\n",
       "      <td>0.199214</td>\n",
       "      <td>0.185638</td>\n",
       "      <td>0.132497</td>\n",
       "    </tr>\n",
       "    <tr>\n",
       "      <th>f6</th>\n",
       "      <td>0.016894</td>\n",
       "      <td>0.217232</td>\n",
       "      <td>0.281387</td>\n",
       "      <td>0.391973</td>\n",
       "      <td>0.199214</td>\n",
       "      <td>1.000000</td>\n",
       "      <td>0.140369</td>\n",
       "      <td>0.290889</td>\n",
       "    </tr>\n",
       "    <tr>\n",
       "      <th>f7</th>\n",
       "      <td>-0.029486</td>\n",
       "      <td>0.137290</td>\n",
       "      <td>0.042023</td>\n",
       "      <td>0.185557</td>\n",
       "      <td>0.185638</td>\n",
       "      <td>0.140369</td>\n",
       "      <td>1.000000</td>\n",
       "      <td>0.173610</td>\n",
       "    </tr>\n",
       "    <tr>\n",
       "      <th>target</th>\n",
       "      <td>0.224872</td>\n",
       "      <td>0.464028</td>\n",
       "      <td>0.065462</td>\n",
       "      <td>0.078517</td>\n",
       "      <td>0.132497</td>\n",
       "      <td>0.290889</td>\n",
       "      <td>0.173610</td>\n",
       "      <td>1.000000</td>\n",
       "    </tr>\n",
       "  </tbody>\n",
       "</table>\n",
       "</div>"
      ],
      "text/plain": [
       "              f1        f2        f3        f4        f5        f6        f7  \\\n",
       "f1      1.000000  0.129712  0.140772 -0.085733 -0.076051  0.016894 -0.029486   \n",
       "f2      0.129712  1.000000  0.151915  0.057686  0.333169  0.217232  0.137290   \n",
       "f3      0.140772  0.151915  1.000000  0.206237  0.087869  0.281387  0.042023   \n",
       "f4     -0.085733  0.057686  0.206237  1.000000  0.437391  0.391973  0.185557   \n",
       "f5     -0.076051  0.333169  0.087869  0.437391  1.000000  0.199214  0.185638   \n",
       "f6      0.016894  0.217232  0.281387  0.391973  0.199214  1.000000  0.140369   \n",
       "f7     -0.029486  0.137290  0.042023  0.185557  0.185638  0.140369  1.000000   \n",
       "target  0.224872  0.464028  0.065462  0.078517  0.132497  0.290889  0.173610   \n",
       "\n",
       "          target  \n",
       "f1      0.224872  \n",
       "f2      0.464028  \n",
       "f3      0.065462  \n",
       "f4      0.078517  \n",
       "f5      0.132497  \n",
       "f6      0.290889  \n",
       "f7      0.173610  \n",
       "target  1.000000  "
      ]
     },
     "execution_count": 220,
     "metadata": {},
     "output_type": "execute_result"
    }
   ],
   "source": [
    "df.corr()"
   ]
  },
  {
   "cell_type": "code",
   "execution_count": 221,
   "metadata": {
    "id": "O-0Wxg8RKkCN"
   },
   "outputs": [],
   "source": [
    "X=df.drop(['target','f1','f3','f4','f5','f7'],axis=1).values\n",
    "y=df['target'].values"
   ]
  },
  {
   "cell_type": "code",
   "execution_count": 222,
   "metadata": {
    "id": "DCRxCYPbQ6yy"
   },
   "outputs": [],
   "source": [
    "from sklearn.preprocessing import StandardScaler\n",
    "scaler = StandardScaler()\n",
    "X = scaler.fit_transform(X)"
   ]
  },
  {
   "cell_type": "code",
   "execution_count": 223,
   "metadata": {
    "id": "DqZf_Vzfh7bn"
   },
   "outputs": [],
   "source": [
    "# X = torch.FloatTensor(X)\n",
    "# y = torch.FloatTensor(y).reshape(-1, 1)"
   ]
  },
  {
   "cell_type": "code",
   "execution_count": 604,
   "metadata": {
    "id": "qWI8EbnZj_LM"
   },
   "outputs": [],
   "source": [
    "from sklearn.model_selection import train_test_split\n",
    "X_train,X_test,y_train,y_test=train_test_split(X,y,test_size=0.25,shuffle=True,stratify=y,random_state=9)"
   ]
  },
  {
   "cell_type": "code",
   "execution_count": 605,
   "metadata": {
    "id": "zSk6ku6Bkb5Q"
   },
   "outputs": [],
   "source": [
    "import os\n",
    "import torch\n",
    "from torch import nn\n",
    "from torch.utils.data import DataLoader\n",
    "from torchvision import datasets, transforms"
   ]
  },
  {
   "cell_type": "code",
   "execution_count": 606,
   "metadata": {
    "id": "py_xX6XWingJ"
   },
   "outputs": [],
   "source": [
    "class NeuralNetwork(nn.Module):\n",
    "    def __init__(self):\n",
    "        super(NeuralNetwork,self).__init__()\n",
    "        self.linear1 = nn.Linear(2, 16)\n",
    "        self.relu = nn.ReLU()\n",
    "        self.linear2 = nn.Linear(16, 8)\n",
    "        self.relu = nn.ReLU()\n",
    "        self.linear3 = nn.Linear(8, 1)\n",
    "        self.sigmoid = nn.Sigmoid()\n",
    "\n",
    "    def forward(self, x):\n",
    "        x = self.linear1(x)\n",
    "        x = self.relu(x)\n",
    "        x = self.linear2(x)\n",
    "        x = self.relu(x)\n",
    "        x = self.linear3(x)\n",
    "        x=self.sigmoid(x)\n",
    "        return x\n"
   ]
  },
  {
   "cell_type": "code",
   "execution_count": 607,
   "metadata": {
    "colab": {
     "base_uri": "https://localhost:8080/"
    },
    "id": "OUYXhFghk1Zu",
    "outputId": "82b26500-5b7f-4f89-9501-51c5c3f0c928"
   },
   "outputs": [
    {
     "name": "stdout",
     "output_type": "stream",
     "text": [
      "NeuralNetwork(\n",
      "  (linear1): Linear(in_features=2, out_features=16, bias=True)\n",
      "  (relu): ReLU()\n",
      "  (linear2): Linear(in_features=16, out_features=8, bias=True)\n",
      "  (linear3): Linear(in_features=8, out_features=1, bias=True)\n",
      "  (sigmoid): Sigmoid()\n",
      ")\n"
     ]
    }
   ],
   "source": [
    "model = NeuralNetwork()\n",
    "print(model)"
   ]
  },
  {
   "cell_type": "code",
   "execution_count": 608,
   "metadata": {
    "id": "DMDGXGi7YM1I"
   },
   "outputs": [],
   "source": [
    "import copy\n",
    "import numpy as np\n",
    "import torch\n",
    "import torch.nn as nn\n",
    "import torch.optim as optim\n",
    "ac_tr,ac_ts,ls_tr,ls_ts=[],[],[],[]\n",
    " \n",
    "def model_train(model, X_train, y_train, X_test, y_test):\n",
    "    loss_function= nn.BCELoss() \n",
    "    optimizer = optim.Adam(model.parameters(), lr=0.001)\n",
    "    n_epochs = 100\n",
    "    batch_size = 50\n",
    "    least_loss=1\n",
    "    for epoch in range(n_epochs):\n",
    "        for start in range(0, len(X_train), batch_size):\n",
    "                # take a batch\n",
    "                X_batch = X_train[start:start+batch_size]\n",
    "                y_batch = y_train[start:start+batch_size]\n",
    "                X_batch = torch.FloatTensor(X_batch)\n",
    "                y_batch = torch.FloatTensor(y_batch).reshape(-1, 1)\n",
    "                # forward pass\n",
    "                y_pred = model(X_batch)\n",
    "                loss = loss_function(y_pred, y_batch)\n",
    "                # backward pass\n",
    "                optimizer.zero_grad()\n",
    "                loss.backward()\n",
    "                # update weights\n",
    "                optimizer.step()\n",
    "                # print progress\n",
    "                acc = (y_pred.round() == y_batch).float().mean()\n",
    "        model.eval()\n",
    "        ytrain_pred,ytest_pred=model(X_train),model(X_test)\n",
    "        trloss,tsloss=loss_function(ytrain_pred, y_train),loss_function(ytest_pred, y_test)\n",
    "        ytrain_loss,ytest_loss=trloss.item(),tsloss.item()\n",
    "        tracc,tsacc=(ytrain_pred.round() == y_train).float().mean(),(ytest_pred.round() == y_test).float().mean()\n",
    "        \n",
    "        ac_tr.append(tracc)\n",
    "        ac_ts.append(tsacc)\n",
    "        ls_tr.append(ytrain_loss)\n",
    "        ls_ts.append(ytest_loss)\n",
    "        \n",
    "        if tsloss<least_loss:\n",
    "            least_loss=tsloss\n",
    "            torch.save(model.state_dict(),'least_loss_model1.pth')\n",
    "    return tsacc,tracc"
   ]
  },
  {
   "cell_type": "code",
   "execution_count": 609,
   "metadata": {},
   "outputs": [],
   "source": [
    "X_train = torch.FloatTensor(X_train)\n",
    "y_train = torch.FloatTensor(y_train).reshape(-1, 1)\n",
    "X_test = torch.FloatTensor(X_test)\n",
    "y_test = torch.FloatTensor(y_test).reshape(-1, 1)"
   ]
  },
  {
   "cell_type": "code",
   "execution_count": 610,
   "metadata": {
    "id": "PkraRTVZlCeF"
   },
   "outputs": [
    {
     "name": "stdout",
     "output_type": "stream",
     "text": [
      "Accuracy for test data: 76.32%\n"
     ]
    }
   ],
   "source": [
    "test_acc,train_acc=model_train(model, X_train, y_train, X_test, y_test)\n",
    "print('Accuracy for test data: {:.2f}%'.format(test_acc * 100))"
   ]
  },
  {
   "cell_type": "code",
   "execution_count": 611,
   "metadata": {
    "colab": {
     "base_uri": "https://localhost:8080/"
    },
    "id": "C-kjiNP0ozQY",
    "outputId": "013ba76a-a02b-4cc1-bc86-8ba82ae5db30"
   },
   "outputs": [],
   "source": [
    "# model=NeuralNetwork()\n",
    "# model.load_state_dict(torch.load('least_loss_model1.pth'))\n",
    "# model.eval()\n",
    "# prediction = model(X_test)\n",
    "# acc = (torch.round(prediction) == y_test).float().mean()\n",
    "# print('Accuracy for test data: {:.2f}%'.format(acc * 100))"
   ]
  },
  {
   "cell_type": "code",
   "execution_count": 612,
   "metadata": {
    "id": "hrl4yf0_jaEW",
    "scrolled": true
   },
   "outputs": [
    {
     "data": {
      "image/png": "[encoded data removed]",
      "text/plain": [
       "<Figure size 640x480 with 1 Axes>"
      ]
     },
     "metadata": {},
     "output_type": "display_data"
    }
   ],
   "source": [
    "plt.plot(ls_tr,label='train_loss')\n",
    "plt.plot(ls_ts,label='test_loss')\n",
    "plt.legend()\n",
    "plt.show()"
   ]
  },
  {
   "cell_type": "markdown",
   "metadata": {},
   "source": [
    "## part-2\n",
    "# tuning hyperparamters\n",
    "\n",
    "# Dropout"
   ]
  },
  {
   "cell_type": "code",
   "execution_count": 613,
   "metadata": {},
   "outputs": [],
   "source": [
    "import torch.nn as nn\n",
    "import torch.optim as optim\n",
    "\n",
    "class dropoutNeuralNetwork(nn.Module):\n",
    "    def __init__(self,prob):\n",
    "        super(dropoutNeuralNetwork,self).__init__()\n",
    "        self.linear1 = nn.Linear(2, 16)\n",
    "        self.relu = nn.ReLU()\n",
    "        self.dropout = nn.Dropout(prob[0])\n",
    "        self.linear2 = nn.Linear(16, 8)\n",
    "        self.relu = nn.ReLU()\n",
    "        self.dropout = nn.Dropout(prob[1])\n",
    "        self.linear3 = nn.Linear(8, 1)\n",
    "        self.sigmoid = nn.Sigmoid()\n",
    "\n",
    "    def forward(self, x):\n",
    "        x = self.linear1(x)\n",
    "        x = self.relu(x)\n",
    "        x = self.dropout(x)\n",
    "        x = self.linear2(x)\n",
    "        x = self.relu(x)\n",
    "        x = self.dropout(x)\n",
    "        x = self.linear3(x)\n",
    "        x=self.sigmoid(x)\n",
    "        return x"
   ]
  },
  {
   "cell_type": "code",
   "execution_count": 614,
   "metadata": {},
   "outputs": [
    {
     "name": "stdout",
     "output_type": "stream",
     "text": [
      "<bound method Module.parameters of dropoutNeuralNetwork(\n",
      "  (dropout): Dropout(p=0.1, inplace=False)\n",
      "  (linear1): Linear(in_features=2, out_features=16, bias=True)\n",
      "  (relu): ReLU()\n",
      "  (linear2): Linear(in_features=16, out_features=8, bias=True)\n",
      "  (linear3): Linear(in_features=8, out_features=1, bias=True)\n",
      "  (sigmoid): Sigmoid()\n",
      ")>\n"
     ]
    }
   ],
   "source": [
    "## Dropout model with p=[0.05,0.1]\n",
    "\n",
    "drop_model_1=dropoutNeuralNetwork([0.1,0.2])\n",
    "print(drop_model.parameters)"
   ]
  },
  {
   "cell_type": "code",
   "execution_count": 615,
   "metadata": {},
   "outputs": [
    {
     "name": "stdout",
     "output_type": "stream",
     "text": [
      "Accuracy for test data: 77.89%\n"
     ]
    }
   ],
   "source": [
    "drop_test_acc,drop_train_acc=model_train(drop_model_1, X_train, y_train, X_test, y_test)\n",
    "print('Accuracy for test data: {:.2f}%'.format(drop_test_acc * 100))"
   ]
  },
  {
   "cell_type": "code",
   "execution_count": 616,
   "metadata": {},
   "outputs": [
    {
     "name": "stdout",
     "output_type": "stream",
     "text": [
      "<bound method Module.parameters of dropoutNeuralNetwork(\n",
      "  (dropout): Dropout(p=0.1, inplace=False)\n",
      "  (linear1): Linear(in_features=2, out_features=16, bias=True)\n",
      "  (relu): ReLU()\n",
      "  (linear2): Linear(in_features=16, out_features=8, bias=True)\n",
      "  (linear3): Linear(in_features=8, out_features=1, bias=True)\n",
      "  (sigmoid): Sigmoid()\n",
      ")>\n"
     ]
    }
   ],
   "source": [
    "## Dropout model with p=[0.4,0.3]\n",
    "\n",
    "drop_model_2=dropoutNeuralNetwork([0.4,0.3])\n",
    "print(drop_model.parameters)"
   ]
  },
  {
   "cell_type": "code",
   "execution_count": 617,
   "metadata": {},
   "outputs": [
    {
     "name": "stdout",
     "output_type": "stream",
     "text": [
      "Accuracy for test data: 76.32%\n"
     ]
    }
   ],
   "source": [
    "drop_test_acc,drop_train_acc=model_train(drop_model_2, X_train, y_train, X_test, y_test)\n",
    "print('Accuracy for test data: {:.2f}%'.format(drop_test_acc * 100))"
   ]
  },
  {
   "cell_type": "code",
   "execution_count": 618,
   "metadata": {},
   "outputs": [
    {
     "name": "stdout",
     "output_type": "stream",
     "text": [
      "<bound method Module.parameters of dropoutNeuralNetwork(\n",
      "  (dropout): Dropout(p=0.1, inplace=False)\n",
      "  (linear1): Linear(in_features=2, out_features=16, bias=True)\n",
      "  (relu): ReLU()\n",
      "  (linear2): Linear(in_features=16, out_features=8, bias=True)\n",
      "  (linear3): Linear(in_features=8, out_features=1, bias=True)\n",
      "  (sigmoid): Sigmoid()\n",
      ")>\n"
     ]
    }
   ],
   "source": [
    "## Dropout model with p=[0.3,0.2]\n",
    "\n",
    "drop_model_3=dropoutNeuralNetwork([0.3,0.2])\n",
    "print(drop_model.parameters)"
   ]
  },
  {
   "cell_type": "code",
   "execution_count": 619,
   "metadata": {},
   "outputs": [
    {
     "name": "stdout",
     "output_type": "stream",
     "text": [
      "Accuracy for test data: 78.42%\n"
     ]
    }
   ],
   "source": [
    "drop_test_acc,drop_train_acc=model_train(drop_model_3, X_train, y_train, X_test, y_test)\n",
    "print('Accuracy for test data: {:.2f}%'.format(drop_test_acc * 100))"
   ]
  },
  {
   "cell_type": "markdown",
   "metadata": {},
   "source": [
    "# Optimizer tuning"
   ]
  },
  {
   "cell_type": "code",
   "execution_count": 411,
   "metadata": {},
   "outputs": [],
   "source": [
    "##  Base model is using dropout with p[0.3,0.2] with highest accuracy \n",
    "drop_model_1=dropoutNeuralNetwork([0.3,0.2])"
   ]
  },
  {
   "cell_type": "code",
   "execution_count": 620,
   "metadata": {},
   "outputs": [],
   "source": [
    "## Changing optimizer to SGD on the base model\n",
    "\n",
    "import copy\n",
    "import numpy as np\n",
    "import torch\n",
    "import torch.nn as nn\n",
    "import torch.optim as optim\n",
    "ac_tr,ac_ts,ls_tr,ls_ts=[],[],[],[]\n",
    " \n",
    "def model_train(model, X_train, y_train, X_test, y_test):\n",
    "    loss_function= nn.BCELoss() \n",
    "    optimizer = optim.SGD(model.parameters(), lr=0.001,momentum=0.9)\n",
    "    n_epochs = 100\n",
    "    batch_size = 50\n",
    "    least_loss=1\n",
    "    for epoch in range(n_epochs):\n",
    "        for start in range(0, len(X_train), batch_size):\n",
    "                # take a batch\n",
    "                X_batch = X_train[start:start+batch_size]\n",
    "                y_batch = y_train[start:start+batch_size]\n",
    "                X_batch = torch.FloatTensor(X_batch)\n",
    "                y_batch = torch.FloatTensor(y_batch).reshape(-1, 1)\n",
    "                # forward pass\n",
    "                y_pred = model(X_batch)\n",
    "                loss = loss_function(y_pred, y_batch)\n",
    "                # backward pass\n",
    "                optimizer.zero_grad()\n",
    "                loss.backward()\n",
    "                # update weights\n",
    "                optimizer.step()\n",
    "                # print progress\n",
    "                acc = (y_pred.round() == y_batch).float().mean()\n",
    "        model.eval()\n",
    "        ytrain_pred,ytest_pred=model(X_train),model(X_test)\n",
    "        trloss,tsloss=loss_function(ytrain_pred, y_train),loss_function(ytest_pred, y_test)\n",
    "        ytrain_loss,ytest_loss=trloss.item(),tsloss.item()\n",
    "        tracc,tsacc=(ytrain_pred.round() == y_train).float().mean(),(ytest_pred.round() == y_test).float().mean()\n",
    "        \n",
    "        ac_tr.append(tracc)\n",
    "        ac_ts.append(tsacc)\n",
    "        ls_tr.append(ytrain_loss)\n",
    "        ls_ts.append(ytest_loss)\n",
    "        \n",
    "        if tsloss<least_loss:\n",
    "            least_loss=tsloss\n",
    "            torch.save(model.state_dict(),'least_loss_model1.pth')\n",
    "    return tsacc,tracc"
   ]
  },
  {
   "cell_type": "code",
   "execution_count": 621,
   "metadata": {},
   "outputs": [
    {
     "name": "stdout",
     "output_type": "stream",
     "text": [
      "Accuracy for test data: 77.89%\n"
     ]
    }
   ],
   "source": [
    "# Accuracy for SGD optimizer\n",
    "\n",
    "test_acc,train_acc=model_train(drop_model_3, X_train, y_train, X_test, y_test)\n",
    "print('Accuracy for test data: {:.2f}%'.format(test_acc * 100))"
   ]
  },
  {
   "cell_type": "code",
   "execution_count": 622,
   "metadata": {},
   "outputs": [],
   "source": [
    "## Changing optimizer to RMSprop on the base model\n",
    "\n",
    "import copy\n",
    "import numpy as np\n",
    "import torch\n",
    "import torch.nn as nn\n",
    "import torch.optim as optim\n",
    "ac_tr,ac_ts,ls_tr,ls_ts=[],[],[],[]\n",
    " \n",
    "def model_train(model, X_train, y_train, X_test, y_test):\n",
    "    loss_function= nn.BCELoss() \n",
    "    optimizer = optimizer = optim.RMSprop(model.parameters(), lr=0.001, alpha=0.99, eps=1e-08, weight_decay=0, momentum=0.9, centered=False)\n",
    "    n_epochs = 100\n",
    "    batch_size = 50\n",
    "    least_loss=1\n",
    "    for epoch in range(n_epochs):\n",
    "        for start in range(0, len(X_train), batch_size):\n",
    "                # take a batch\n",
    "                X_batch = X_train[start:start+batch_size]\n",
    "                y_batch = y_train[start:start+batch_size]\n",
    "                X_batch = torch.FloatTensor(X_batch)\n",
    "                y_batch = torch.FloatTensor(y_batch).reshape(-1, 1)\n",
    "                # forward pass\n",
    "                y_pred = model(X_batch)\n",
    "                loss = loss_function(y_pred, y_batch)\n",
    "                # backward pass\n",
    "                optimizer.zero_grad()\n",
    "                loss.backward()\n",
    "                # update weights\n",
    "                optimizer.step()\n",
    "                # print progress\n",
    "                acc = (y_pred.round() == y_batch).float().mean()\n",
    "        model.eval()\n",
    "        ytrain_pred,ytest_pred=model(X_train),model(X_test)\n",
    "        trloss,tsloss=loss_function(ytrain_pred, y_train),loss_function(ytest_pred, y_test)\n",
    "        ytrain_loss,ytest_loss=trloss.item(),tsloss.item()\n",
    "        tracc,tsacc=(ytrain_pred.round() == y_train).float().mean(),(ytest_pred.round() == y_test).float().mean()\n",
    "        \n",
    "        ac_tr.append(tracc)\n",
    "        ac_ts.append(tsacc)\n",
    "        ls_tr.append(ytrain_loss)\n",
    "        ls_ts.append(ytest_loss)\n",
    "        \n",
    "        if tsloss<least_loss:\n",
    "            least_loss=tsloss\n",
    "            torch.save(model.state_dict(),'least_loss_model1.pth')\n",
    "    return tsacc,tracc"
   ]
  },
  {
   "cell_type": "code",
   "execution_count": 623,
   "metadata": {},
   "outputs": [
    {
     "name": "stdout",
     "output_type": "stream",
     "text": [
      "Accuracy for test data: 75.79%\n"
     ]
    }
   ],
   "source": [
    "# Accuracy for RMSprop optimizer\n",
    "\n",
    "test_acc,train_acc=model_train(drop_model_3, X_train, y_train, X_test, y_test)\n",
    "print('Accuracy for test data: {:.2f}%'.format(test_acc * 100))"
   ]
  },
  {
   "cell_type": "code",
   "execution_count": 624,
   "metadata": {},
   "outputs": [],
   "source": [
    "## Changing optimizer to Adagrad on the base model\n",
    "\n",
    "import copy\n",
    "import numpy as np\n",
    "import torch\n",
    "import torch.nn as nn\n",
    "import torch.optim as optim\n",
    "ac_tr,ac_ts,ls_tr,ls_ts=[],[],[],[]\n",
    " \n",
    "def model_train(model, X_train, y_train, X_test, y_test):\n",
    "    loss_function= nn.BCELoss() \n",
    "    optimizer = optimizer = optim.Adagrad(model.parameters(), lr=0.001, lr_decay=0, weight_decay=0)\n",
    "    n_epochs = 100\n",
    "    batch_size = 50\n",
    "    least_loss=1\n",
    "    for epoch in range(n_epochs):\n",
    "        for start in range(0, len(X_train), batch_size):\n",
    "                # take a batch\n",
    "                X_batch = X_train[start:start+batch_size]\n",
    "                y_batch = y_train[start:start+batch_size]\n",
    "                X_batch = torch.FloatTensor(X_batch)\n",
    "                y_batch = torch.FloatTensor(y_batch).reshape(-1, 1)\n",
    "                # forward pass\n",
    "                y_pred = model(X_batch)\n",
    "                loss = loss_function(y_pred, y_batch)\n",
    "                # backward pass\n",
    "                optimizer.zero_grad()\n",
    "                loss.backward()\n",
    "                # update weights\n",
    "                optimizer.step()\n",
    "                # print progress\n",
    "                acc = (y_pred.round() == y_batch).float().mean()\n",
    "        model.eval()\n",
    "        ytrain_pred,ytest_pred=model(X_train),model(X_test)\n",
    "        trloss,tsloss=loss_function(ytrain_pred, y_train),loss_function(ytest_pred, y_test)\n",
    "        ytrain_loss,ytest_loss=trloss.item(),tsloss.item()\n",
    "        tracc,tsacc=(ytrain_pred.round() == y_train).float().mean(),(ytest_pred.round() == y_test).float().mean()\n",
    "        \n",
    "        ac_tr.append(tracc)\n",
    "        ac_ts.append(tsacc)\n",
    "        ls_tr.append(ytrain_loss)\n",
    "        ls_ts.append(ytest_loss)\n",
    "        \n",
    "        if tsloss<least_loss:\n",
    "            least_loss=tsloss\n",
    "            torch.save(model.state_dict(),'least_loss_model1.pth')\n",
    "    return tsacc,tracc"
   ]
  },
  {
   "cell_type": "code",
   "execution_count": 625,
   "metadata": {},
   "outputs": [
    {
     "name": "stdout",
     "output_type": "stream",
     "text": [
      "Accuracy for test data: 76.32%\n"
     ]
    }
   ],
   "source": [
    "# Accuracy for Adagrad optimizer\n",
    "\n",
    "test_acc,train_acc=model_train(drop_model_3, X_train, y_train, X_test, y_test)\n",
    "print('Accuracy for test data: {:.2f}%'.format(test_acc * 100))"
   ]
  },
  {
   "cell_type": "markdown",
   "metadata": {},
   "source": [
    "# Changing the Activation function"
   ]
  },
  {
   "cell_type": "code",
   "execution_count": 626,
   "metadata": {},
   "outputs": [],
   "source": [
    "## Tanh Activation function with dropout  \n",
    "\n",
    "import torch.nn as nn\n",
    "import torch.optim as optim\n",
    "\n",
    "class ActivatedNeuralNetwork(nn.Module):\n",
    "    def __init__(self,prob):\n",
    "        super(ActivatedNeuralNetwork,self).__init__()\n",
    "        self.linear1 = nn.Linear(2, 16)\n",
    "        self.tanh = nn.Tanh()\n",
    "        self.dropout = nn.Dropout(prob[0])\n",
    "        self.linear2 = nn.Linear(16, 8)\n",
    "        self.tanh = nn.Tanh()\n",
    "        self.dropout = nn.Dropout(prob[1])\n",
    "        self.linear3 = nn.Linear(8, 1)\n",
    "        self.sigmoid = nn.Sigmoid()\n",
    "\n",
    "    def forward(self, x):\n",
    "        x = self.linear1(x)\n",
    "        x = self.tanh(x)\n",
    "        x = self.dropout(x)\n",
    "        x = self.linear2(x)\n",
    "        x = self.tanh(x)\n",
    "        x = self.dropout(x)\n",
    "        x = self.linear3(x)\n",
    "        x=self.sigmoid(x)\n",
    "        return x"
   ]
  },
  {
   "cell_type": "code",
   "execution_count": 627,
   "metadata": {},
   "outputs": [],
   "source": [
    "act_model_1=ActivatedNeuralNetwork([0.3,0.2])\n"
   ]
  },
  {
   "cell_type": "code",
   "execution_count": 628,
   "metadata": {},
   "outputs": [],
   "source": [
    "import copy\n",
    "import numpy as np\n",
    "import torch\n",
    "import torch.nn as nn\n",
    "import torch.optim as optim\n",
    "ac_tr,ac_ts,ls_tr,ls_ts=[],[],[],[]\n",
    " \n",
    "def model_train(model, X_train, y_train, X_test, y_test):\n",
    "    loss_function= nn.BCELoss() \n",
    "    optimizer = optim.Adam(model.parameters(), lr=0.001)\n",
    "    n_epochs = 100\n",
    "    batch_size = 50\n",
    "    least_loss=1\n",
    "    for epoch in range(n_epochs):\n",
    "        for start in range(0, len(X_train), batch_size):\n",
    "                # take a batch\n",
    "                X_batch = X_train[start:start+batch_size]\n",
    "                y_batch = y_train[start:start+batch_size]\n",
    "                X_batch = torch.FloatTensor(X_batch)\n",
    "                y_batch = torch.FloatTensor(y_batch).reshape(-1, 1)\n",
    "                # forward pass\n",
    "                y_pred = model(X_batch)\n",
    "                loss = loss_function(y_pred, y_batch)\n",
    "                # backward pass\n",
    "                optimizer.zero_grad()\n",
    "                loss.backward()\n",
    "                # update weights\n",
    "                optimizer.step()\n",
    "                # print progress\n",
    "                acc = (y_pred.round() == y_batch).float().mean()\n",
    "        model.eval()\n",
    "        ytrain_pred,ytest_pred=model(X_train),model(X_test)\n",
    "        trloss,tsloss=loss_function(ytrain_pred, y_train),loss_function(ytest_pred, y_test)\n",
    "        ytrain_loss,ytest_loss=trloss.item(),tsloss.item()\n",
    "        tracc,tsacc=(ytrain_pred.round() == y_train).float().mean(),(ytest_pred.round() == y_test).float().mean()\n",
    "        \n",
    "        ac_tr.append(tracc)\n",
    "        ac_ts.append(tsacc)\n",
    "        ls_tr.append(ytrain_loss)\n",
    "        ls_ts.append(ytest_loss)\n",
    "        \n",
    "        if tsloss<least_loss:\n",
    "            least_loss=tsloss\n",
    "            torch.save(model.state_dict(),'least_loss_model1.pth')\n",
    "    return tsacc,tracc"
   ]
  },
  {
   "cell_type": "code",
   "execution_count": 629,
   "metadata": {},
   "outputs": [
    {
     "name": "stdout",
     "output_type": "stream",
     "text": [
      "Accuracy for test data: 77.89%\n"
     ]
    }
   ],
   "source": [
    "test_acc,train_acc=model_train(act_model_1, X_train, y_train, X_test, y_test)\n",
    "print('Accuracy for test data: {:.2f}%'.format(test_acc * 100))"
   ]
  },
  {
   "cell_type": "code",
   "execution_count": 630,
   "metadata": {},
   "outputs": [],
   "source": [
    "## Tanh Activation function with dropout  \n",
    "\n",
    "import torch.nn as nn\n",
    "import torch.optim as optim\n",
    "\n",
    "class ActivatedNeuralNetwork(nn.Module):\n",
    "    def __init__(self,prob):\n",
    "        super(ActivatedNeuralNetwork,self).__init__()\n",
    "        self.linear1 = nn.Linear(2, 16)\n",
    "        self.Softmax = nn.Softmax()\n",
    "        self.dropout = nn.Dropout(prob[0])\n",
    "        self.linear2 = nn.Linear(16, 8)\n",
    "        self.Softmax = nn.Softmax()\n",
    "        self.dropout = nn.Dropout(prob[1])\n",
    "        self.linear3 = nn.Linear(8, 1)\n",
    "        self.sigmoid = nn.Sigmoid()\n",
    "\n",
    "    def forward(self, x):\n",
    "        x = self.linear1(x)\n",
    "        x = self.Softmax(x)\n",
    "        x = self.dropout(x)\n",
    "        x = self.linear2(x)\n",
    "        x = self.Softmax(x)\n",
    "        x = self.dropout(x)\n",
    "        x = self.linear3(x)\n",
    "        x=self.sigmoid(x)\n",
    "        return x"
   ]
  },
  {
   "cell_type": "code",
   "execution_count": 631,
   "metadata": {},
   "outputs": [],
   "source": [
    "act_model_2=ActivatedNeuralNetwork([0.3,0.2])"
   ]
  },
  {
   "cell_type": "code",
   "execution_count": 632,
   "metadata": {},
   "outputs": [
    {
     "name": "stderr",
     "output_type": "stream",
     "text": [
      "C:\\Users\\rahul\\AppData\\Local\\Temp\\ipykernel_22312\\44230661.py:20: UserWarning: Implicit dimension choice for softmax has been deprecated. Change the call to include dim=X as an argument.\n",
      "  x = self.Softmax(x)\n",
      "C:\\Users\\rahul\\AppData\\Local\\Temp\\ipykernel_22312\\44230661.py:23: UserWarning: Implicit dimension choice for softmax has been deprecated. Change the call to include dim=X as an argument.\n",
      "  x = self.Softmax(x)\n"
     ]
    },
    {
     "name": "stdout",
     "output_type": "stream",
     "text": [
      "Accuracy for test data: 76.84%\n"
     ]
    }
   ],
   "source": [
    "test_acc,train_acc=model_train(act_model_2, X_train, y_train, X_test, y_test)\n",
    "print('Accuracy for test data: {:.2f}%'.format(test_acc * 100))"
   ]
  },
  {
   "cell_type": "code",
   "execution_count": 633,
   "metadata": {},
   "outputs": [],
   "source": [
    "## Leakyrelu Activation function with dropout  \n",
    "\n",
    "import torch.nn as nn\n",
    "import torch.optim as optim\n",
    "\n",
    "class ActivatedNeuralNetwork(nn.Module):\n",
    "    def __init__(self,prob):\n",
    "        super(ActivatedNeuralNetwork,self).__init__()\n",
    "        self.linear1 = nn.Linear(2, 16)\n",
    "        self.LeakyRelu = nn.LeakyReLU()\n",
    "        self.dropout = nn.Dropout(prob[0])\n",
    "        self.linear2 = nn.Linear(16, 8)\n",
    "        self.LeakyRelu = nn.LeakyReLU()\n",
    "        self.dropout = nn.Dropout(prob[1])\n",
    "        self.linear3 = nn.Linear(8, 1)\n",
    "        self.sigmoid = nn.Sigmoid()\n",
    "\n",
    "    def forward(self, x):\n",
    "        x = self.linear1(x)\n",
    "        x = self.LeakyRelu(x)\n",
    "        x = self.dropout(x)\n",
    "        x = self.linear2(x)\n",
    "        x = self.LeakyRelu(x)\n",
    "        x = self.dropout(x)\n",
    "        x = self.linear3(x)\n",
    "        x=self.sigmoid(x)\n",
    "        return x"
   ]
  },
  {
   "cell_type": "code",
   "execution_count": 634,
   "metadata": {},
   "outputs": [],
   "source": [
    "act_model_3=ActivatedNeuralNetwork([0.3,0.2])"
   ]
  },
  {
   "cell_type": "code",
   "execution_count": 635,
   "metadata": {},
   "outputs": [
    {
     "name": "stdout",
     "output_type": "stream",
     "text": [
      "Accuracy for test data: 77.89%\n"
     ]
    }
   ],
   "source": [
    "test_acc,train_acc=model_train(act_model_3, X_train, y_train, X_test, y_test)\n",
    "print('Accuracy for test data: {:.2f}%'.format(test_acc * 100))"
   ]
  },
  {
   "cell_type": "markdown",
   "metadata": {},
   "source": [
    "# Tunning Initilizer"
   ]
  },
  {
   "cell_type": "code",
   "execution_count": 600,
   "metadata": {},
   "outputs": [],
   "source": [
    "## By tunning the activation function the relu activation function with dropout gives the best accuracy"
   ]
  },
  {
   "cell_type": "code",
   "execution_count": 643,
   "metadata": {},
   "outputs": [],
   "source": [
    "import torch.nn as nn\n",
    "import torch.optim as optim\n",
    "class InitilizerActivatedDropNeuralNetwork(nn.Module):\n",
    "    def __init__(self,initilz,prob):\n",
    "        super(InitilizerActivatedDropNeuralNetwork,self).__init__()\n",
    "        self.linear1 = nn.Linear(2, 16)\n",
    "        self.relu = nn.ReLU()\n",
    "        self.dropout = nn.Dropout(prob[0])\n",
    "        self.linear2 = nn.Linear(16, 8)\n",
    "        self.relu = nn.ReLU()\n",
    "        self.dropout = nn.Dropout(prob[1])\n",
    "        self.linear3 = nn.Linear(8, 1)\n",
    "        self.sigmoid = nn.Sigmoid()\n",
    "        if initilz=='uni':\n",
    "            nn.init.uniform_(self.linear1.weight, a=-0.1, b=0.1)\n",
    "            nn.init.uniform_(self.linear2.weight, a=-0.1, b=0.1)\n",
    "        elif initilz=='xav':\n",
    "            nn.init.xavier_uniform_(self.linear1.weight)\n",
    "            nn.init.xavier_uniform_(self.linear2.weight)\n",
    "        elif initilz=='orth':\n",
    "            nn.init.orthogonal_(self.linear1.weight)\n",
    "            nn.init.orthogonal_(self.linear1.weight)\n",
    "\n",
    "    def forward(self, x):\n",
    "            x = self.linear1(x)\n",
    "            x = self.relu(x)\n",
    "            x = self.dropout(x)\n",
    "            x = self.linear2(x)\n",
    "            x = self.relu(x)\n",
    "            x = self.dropout(x)\n",
    "            x = self.linear3(x)\n",
    "            x=self.sigmoid(x)\n",
    "            return x\n",
    "#     super(InitActivDropoutNeuralNetwork,self).__init__()\n",
    "#     self.h1 = nn.Linear(2,16)\n",
    "#     self.dropout1 = nn.Dropout(p=dropout_probs[0])\n",
    "#     self.h2 = nn.Linear(18,9)\n",
    "#     self.dropout2 = nn.Dropout(p=dropout_probs[1])\n",
    "#     self.h3 = nn.Linear(9, 1)\n",
    "#     self.sigmoid = nn.Sigmoid()\n",
    "#     if activ_func == 'relu':\n",
    "#       self.activation = nn.ReLU()\n",
    "#     elif activ_func == 'tanh':\n",
    "#       self.activation = nn.Tanh()\n",
    "#     elif activ_func == 'leaky_relu':\n",
    "#       self.activation = nn.LeakyReLU()\n",
    "#     if inz=='uni':\n",
    "#       init.uniform_(self.h1.weight, a=-0.05, b=0.05)\n",
    "#       init.uniform_(self.h2.weight, a=-0.05, b=0.05)\n",
    "#     elif inz=='xav':\n",
    "#       init.xavier_uniform_(self.h1.weight)\n",
    "#       init.xavier_uniform_(self.h2.weight)\n",
    "#     elif inz=='orth':\n",
    "#       init.kaiming_uniform_(self.h1.weight, nonlinearity='leaky_relu')\n",
    "#       init.kaiming_uniform_(self.h2.weight, nonlinearity='leaky_relu')\n",
    "\n",
    "\n",
    "#   def forward(self,x):\n",
    "#     x = self.activation(self.h1(x))\n",
    "#     x=self.dropout1(x)\n",
    "#     x = self.activation(self.h2(x))\n",
    "#     x=self.dropout2(x)\n",
    "#     x = self.sigmoid(self.h3(x))\n",
    "#     return x"
   ]
  },
  {
   "cell_type": "code",
   "execution_count": 644,
   "metadata": {},
   "outputs": [],
   "source": [
    "initializer_model1 = InitilizerActivatedDropNeuralNetwork('uni',[0.3,0.2])"
   ]
  },
  {
   "cell_type": "code",
   "execution_count": 645,
   "metadata": {},
   "outputs": [
    {
     "name": "stdout",
     "output_type": "stream",
     "text": [
      "Accuracy for test data: 77.37%\n"
     ]
    }
   ],
   "source": [
    "test_acc,train_acc=model_train(initializer_model1, X_train, y_train, X_test, y_test)\n",
    "print('Accuracy for test data: {:.2f}%'.format(test_acc * 100))"
   ]
  },
  {
   "cell_type": "code",
   "execution_count": 646,
   "metadata": {},
   "outputs": [],
   "source": [
    "initializer_model2 = InitilizerActivatedDropNeuralNetwork('xav',[0.3,0.2])"
   ]
  },
  {
   "cell_type": "code",
   "execution_count": 647,
   "metadata": {},
   "outputs": [
    {
     "name": "stdout",
     "output_type": "stream",
     "text": [
      "Accuracy for test data: 76.84%\n"
     ]
    }
   ],
   "source": [
    "test_acc,train_acc=model_train(initializer_model2, X_train, y_train, X_test, y_test)\n",
    "print('Accuracy for test data: {:.2f}%'.format(test_acc * 100))"
   ]
  },
  {
   "cell_type": "code",
   "execution_count": 648,
   "metadata": {},
   "outputs": [],
   "source": [
    "initializer_model3 = InitilizerActivatedDropNeuralNetwork('orth',[0.3,0.2])"
   ]
  },
  {
   "cell_type": "code",
   "execution_count": 649,
   "metadata": {},
   "outputs": [
    {
     "name": "stdout",
     "output_type": "stream",
     "text": [
      "Accuracy for test data: 76.84%\n"
     ]
    }
   ],
   "source": [
    "test_acc,train_acc=model_train(initializer_model3, X_train, y_train, X_test, y_test)\n",
    "print('Accuracy for test data: {:.2f}%'.format(test_acc * 100))"
   ]
  },
  {
   "cell_type": "code",
   "execution_count": 659,
   "metadata": {},
   "outputs": [],
   "source": [
    "import torch.nn as nn\n",
    "import torch.optim as optim\n",
    "\n",
    "class BatchnormdropoutNeuralNetwork(nn.Module):\n",
    "    def __init__(self,prob):\n",
    "        super(BatchnormdropoutNeuralNetwork,self).__init__()\n",
    "        self.linear1 = nn.Linear(2, 16)\n",
    "        self.relu = nn.ReLU()\n",
    "        self.bn1 = nn.BatchNorm1d(16)\n",
    "        self.dropout = nn.Dropout(prob[0])\n",
    "        self.linear2 = nn.Linear(16, 8)\n",
    "        self.relu = nn.ReLU()\n",
    "        self.bn2 = nn.BatchNorm1d(8)\n",
    "        self.dropout = nn.Dropout(prob[1])\n",
    "        self.linear3 = nn.Linear(8, 1)\n",
    "        self.sigmoid = nn.Sigmoid()\n",
    "\n",
    "    def forward(self, x):\n",
    "        x = self.linear1(x)\n",
    "        x = self.relu(x)\n",
    "        x = self.bn1(x)\n",
    "        x = self.dropout(x)\n",
    "        x = self.linear2(x)\n",
    "        x = self.relu(x)\n",
    "        x = self.bn2(x)\n",
    "        x = self.dropout(x)\n",
    "        x = self.linear3(x)\n",
    "        x=self.sigmoid(x)\n",
    "        return x\n",
    "    \n",
    "    "
   ]
  },
  {
   "cell_type": "code",
   "execution_count": 660,
   "metadata": {},
   "outputs": [],
   "source": [
    "batch_model=BatchnormdropoutNeuralNetwork([0.3,0.2])\n"
   ]
  },
  {
   "cell_type": "code",
   "execution_count": 661,
   "metadata": {},
   "outputs": [
    {
     "name": "stdout",
     "output_type": "stream",
     "text": [
      "Accuracy for test data: 76.32%\n"
     ]
    }
   ],
   "source": [
    "test_acc,train_acc=model_train(batch_model, X_train, y_train, X_test, y_test)\n",
    "print('Accuracy for test data: {:.2f}%'.format(test_acc * 100))"
   ]
  },
  {
   "cell_type": "code",
   "execution_count": null,
   "metadata": {},
   "outputs": [],
   "source": [
    "import torch.nn as nn\n",
    "import torch.optim as optim\n",
    "\n",
    "class dropoutNeuralNetwork(nn.Module):\n",
    "    def __init__(self,prob):\n",
    "        super(dropoutNeuralNetwork,self).__init__()\n",
    "        self.linear1 = nn.Linear(2, 16)\n",
    "        self.relu = nn.ReLU()\n",
    "        self.dropout = nn.Dropout(prob[0])\n",
    "        self.linear2 = nn.Linear(16, 8)\n",
    "        self.relu = nn.ReLU()\n",
    "        self.dropout = nn.Dropout(prob[1])\n",
    "        self.linear3 = nn.Linear(8, 1)\n",
    "        self.sigmoid = nn.Sigmoid()\n",
    "        \n",
    "\n",
    "    def forward(self, x):\n",
    "        x = self.linear1(x)\n",
    "        x = self.relu(x)\n",
    "        x = self.dropout(x)\n",
    "        x = self.linear2(x)\n",
    "        x = self.relu(x)\n",
    "        x = self.dropout(x)\n",
    "        x = self.linear3(x)\n",
    "        x=self.sigmoid(x)\n",
    "        return x"
   ]
  },
  {
   "cell_type": "code",
   "execution_count": null,
   "metadata": {},
   "outputs": [],
   "source": []
  },
  {
   "cell_type": "code",
   "execution_count": null,
   "metadata": {},
   "outputs": [],
   "source": []
  },
  {
   "cell_type": "code",
   "execution_count": null,
   "metadata": {},
   "outputs": [],
   "source": []
  },
  {
   "cell_type": "code",
   "execution_count": 650,
   "metadata": {},
   "outputs": [],
   "source": [
    "# def evaluate(model, criterion, X, y):\n",
    "#     model.eval()\n",
    "#     with torch.no_grad():\n",
    "#         output = model(X)\n",
    "#         loss = criterion(output, y)\n",
    "#     return loss.item()\n",
    "\n",
    "# val_loss = evaluate(model, criterion, X_val, y_val)"
   ]
  },
  {
   "cell_type": "code",
   "execution_count": 651,
   "metadata": {},
   "outputs": [],
   "source": [
    "# loss_function= nn.BCELoss() \n",
    "# optimizer = optim.Adam(model.parameters(), lr=0.001)\n",
    "# n_epochs = 100\n",
    "# batch_size = 50\n",
    "# least_loss=1\n",
    "# for epoch in range(n_epochs):\n",
    "#     for start in range(0, len(X_train), batch_size):\n",
    "#                 # take a batch\n",
    "#                 X_batch = X_train[start:start+batch_size]\n",
    "#                 y_batch = y_train[start:start+batch_size]\n",
    "#                 X_batch = torch.FloatTensor(X_batch)\n",
    "#                 y_batch = torch.FloatTensor(y_batch).reshape(-1, 1)\n",
    "#                 # forward pass\n",
    "#                 y_pred = model(X_batch)\n",
    "#                 loss = loss_function(y_pred, y_batch)\n",
    "#                 # backward pass\n",
    "#                 optimizer.zero_grad()\n",
    "#                 loss.backward()\n",
    "#                 # update weights\n",
    "#                 optimizer.step()\n",
    "#     # Evaluate on test set\n",
    "#     with torch.no_grad():\n",
    "#         outputs = model(X_test)\n",
    "#         test_loss = criterion(outputs, y_test)\n",
    "#         test_acc = ((outputs.round() == y_test).float().mean()).item()\n",
    "\n",
    "#     print(f\"Epoch {epoch+1}/{20}: Test Loss: {test_loss.item():.4f}, Test Accuracy: {test_acc:.4f}\")\n"
   ]
  },
  {
   "cell_type": "code",
   "execution_count": 279,
   "metadata": {},
   "outputs": [
    {
     "name": "stdout",
     "output_type": "stream",
     "text": [
      "Epoch 1/20: Test Loss: 0.5336, Test Accuracy: 0.7579\n",
      "Epoch 2/20: Test Loss: 0.5336, Test Accuracy: 0.7632\n",
      "Epoch 3/20: Test Loss: 0.5393, Test Accuracy: 0.7474\n",
      "Epoch 4/20: Test Loss: 0.5181, Test Accuracy: 0.7474\n",
      "Epoch 5/20: Test Loss: 0.5301, Test Accuracy: 0.7684\n",
      "Epoch 6/20: Test Loss: 0.5213, Test Accuracy: 0.7737\n",
      "Epoch 7/20: Test Loss: 0.5448, Test Accuracy: 0.7316\n",
      "Epoch 8/20: Test Loss: 0.5114, Test Accuracy: 0.7632\n",
      "Epoch 9/20: Test Loss: 0.5131, Test Accuracy: 0.7526\n",
      "Epoch 10/20: Test Loss: 0.5287, Test Accuracy: 0.7579\n",
      "Epoch 11/20: Test Loss: 0.5242, Test Accuracy: 0.7632\n",
      "Epoch 12/20: Test Loss: 0.5382, Test Accuracy: 0.7632\n",
      "Epoch 13/20: Test Loss: 0.5262, Test Accuracy: 0.7737\n",
      "Epoch 14/20: Test Loss: 0.5440, Test Accuracy: 0.7526\n",
      "Epoch 15/20: Test Loss: 0.5386, Test Accuracy: 0.7474\n",
      "Epoch 16/20: Test Loss: 0.5226, Test Accuracy: 0.7632\n",
      "Epoch 17/20: Test Loss: 0.5285, Test Accuracy: 0.7684\n",
      "Epoch 18/20: Test Loss: 0.5318, Test Accuracy: 0.7579\n",
      "Epoch 19/20: Test Loss: 0.5291, Test Accuracy: 0.7421\n",
      "Epoch 20/20: Test Loss: 0.5267, Test Accuracy: 0.7737\n",
      "Epoch 21/20: Test Loss: 0.5042, Test Accuracy: 0.7632\n",
      "Epoch 22/20: Test Loss: 0.5260, Test Accuracy: 0.7737\n",
      "Epoch 23/20: Test Loss: 0.5240, Test Accuracy: 0.7526\n",
      "Epoch 24/20: Test Loss: 0.5389, Test Accuracy: 0.7579\n",
      "Epoch 25/20: Test Loss: 0.5060, Test Accuracy: 0.7737\n",
      "Epoch 26/20: Test Loss: 0.5307, Test Accuracy: 0.7632\n",
      "Epoch 27/20: Test Loss: 0.5302, Test Accuracy: 0.7526\n",
      "Epoch 28/20: Test Loss: 0.5280, Test Accuracy: 0.7579\n",
      "Epoch 29/20: Test Loss: 0.5178, Test Accuracy: 0.7737\n",
      "Epoch 30/20: Test Loss: 0.5223, Test Accuracy: 0.7737\n",
      "Epoch 31/20: Test Loss: 0.5114, Test Accuracy: 0.7684\n",
      "Epoch 32/20: Test Loss: 0.5365, Test Accuracy: 0.7579\n",
      "Epoch 33/20: Test Loss: 0.5324, Test Accuracy: 0.7526\n",
      "Epoch 34/20: Test Loss: 0.5184, Test Accuracy: 0.7842\n",
      "Epoch 35/20: Test Loss: 0.5149, Test Accuracy: 0.7632\n",
      "Epoch 36/20: Test Loss: 0.5206, Test Accuracy: 0.7684\n",
      "Epoch 37/20: Test Loss: 0.5059, Test Accuracy: 0.7684\n",
      "Epoch 38/20: Test Loss: 0.5224, Test Accuracy: 0.7526\n",
      "Epoch 39/20: Test Loss: 0.5062, Test Accuracy: 0.7474\n",
      "Epoch 40/20: Test Loss: 0.5280, Test Accuracy: 0.7526\n",
      "Epoch 41/20: Test Loss: 0.5246, Test Accuracy: 0.7684\n",
      "Epoch 42/20: Test Loss: 0.5402, Test Accuracy: 0.7526\n",
      "Epoch 43/20: Test Loss: 0.5221, Test Accuracy: 0.7684\n",
      "Epoch 44/20: Test Loss: 0.5322, Test Accuracy: 0.7421\n",
      "Epoch 45/20: Test Loss: 0.5344, Test Accuracy: 0.7526\n",
      "Epoch 46/20: Test Loss: 0.5263, Test Accuracy: 0.7421\n",
      "Epoch 47/20: Test Loss: 0.5020, Test Accuracy: 0.7895\n",
      "Epoch 48/20: Test Loss: 0.5551, Test Accuracy: 0.7421\n",
      "Epoch 49/20: Test Loss: 0.5399, Test Accuracy: 0.7158\n",
      "Epoch 50/20: Test Loss: 0.5313, Test Accuracy: 0.7632\n",
      "Epoch 51/20: Test Loss: 0.5287, Test Accuracy: 0.7737\n",
      "Epoch 52/20: Test Loss: 0.5221, Test Accuracy: 0.7474\n",
      "Epoch 53/20: Test Loss: 0.5264, Test Accuracy: 0.7632\n",
      "Epoch 54/20: Test Loss: 0.5299, Test Accuracy: 0.7632\n",
      "Epoch 55/20: Test Loss: 0.5289, Test Accuracy: 0.7474\n",
      "Epoch 56/20: Test Loss: 0.5374, Test Accuracy: 0.7474\n",
      "Epoch 57/20: Test Loss: 0.5403, Test Accuracy: 0.7526\n",
      "Epoch 58/20: Test Loss: 0.5362, Test Accuracy: 0.7474\n",
      "Epoch 59/20: Test Loss: 0.4998, Test Accuracy: 0.7737\n",
      "Epoch 60/20: Test Loss: 0.4938, Test Accuracy: 0.7842\n",
      "Epoch 61/20: Test Loss: 0.5202, Test Accuracy: 0.7632\n",
      "Epoch 62/20: Test Loss: 0.5256, Test Accuracy: 0.7579\n",
      "Epoch 63/20: Test Loss: 0.5401, Test Accuracy: 0.7211\n",
      "Epoch 64/20: Test Loss: 0.5449, Test Accuracy: 0.7474\n",
      "Epoch 65/20: Test Loss: 0.5166, Test Accuracy: 0.7632\n",
      "Epoch 66/20: Test Loss: 0.5174, Test Accuracy: 0.7632\n",
      "Epoch 67/20: Test Loss: 0.5289, Test Accuracy: 0.7474\n",
      "Epoch 68/20: Test Loss: 0.5149, Test Accuracy: 0.7632\n",
      "Epoch 69/20: Test Loss: 0.5098, Test Accuracy: 0.7684\n",
      "Epoch 70/20: Test Loss: 0.5341, Test Accuracy: 0.7368\n",
      "Epoch 71/20: Test Loss: 0.5257, Test Accuracy: 0.7632\n",
      "Epoch 72/20: Test Loss: 0.5396, Test Accuracy: 0.7211\n",
      "Epoch 73/20: Test Loss: 0.5314, Test Accuracy: 0.7316\n",
      "Epoch 74/20: Test Loss: 0.5256, Test Accuracy: 0.7474\n",
      "Epoch 75/20: Test Loss: 0.5193, Test Accuracy: 0.7632\n",
      "Epoch 76/20: Test Loss: 0.5144, Test Accuracy: 0.7632\n",
      "Epoch 77/20: Test Loss: 0.5114, Test Accuracy: 0.7684\n",
      "Epoch 78/20: Test Loss: 0.5041, Test Accuracy: 0.7684\n",
      "Epoch 79/20: Test Loss: 0.5401, Test Accuracy: 0.7474\n",
      "Epoch 80/20: Test Loss: 0.5346, Test Accuracy: 0.7421\n",
      "Epoch 81/20: Test Loss: 0.5506, Test Accuracy: 0.7316\n",
      "Epoch 82/20: Test Loss: 0.5302, Test Accuracy: 0.7526\n",
      "Epoch 83/20: Test Loss: 0.5188, Test Accuracy: 0.7632\n",
      "Epoch 84/20: Test Loss: 0.5189, Test Accuracy: 0.7579\n",
      "Epoch 85/20: Test Loss: 0.5240, Test Accuracy: 0.7526\n",
      "Epoch 86/20: Test Loss: 0.5197, Test Accuracy: 0.7474\n",
      "Epoch 87/20: Test Loss: 0.5314, Test Accuracy: 0.7474\n",
      "Epoch 88/20: Test Loss: 0.5188, Test Accuracy: 0.7579\n",
      "Epoch 89/20: Test Loss: 0.5189, Test Accuracy: 0.7632\n",
      "Epoch 90/20: Test Loss: 0.5402, Test Accuracy: 0.7579\n",
      "Epoch 91/20: Test Loss: 0.5279, Test Accuracy: 0.7526\n",
      "Epoch 92/20: Test Loss: 0.5353, Test Accuracy: 0.7474\n",
      "Epoch 93/20: Test Loss: 0.5300, Test Accuracy: 0.7579\n",
      "Epoch 94/20: Test Loss: 0.5290, Test Accuracy: 0.7684\n",
      "Epoch 95/20: Test Loss: 0.5194, Test Accuracy: 0.7579\n",
      "Epoch 96/20: Test Loss: 0.4961, Test Accuracy: 0.7737\n",
      "Epoch 97/20: Test Loss: 0.5363, Test Accuracy: 0.7263\n",
      "Epoch 98/20: Test Loss: 0.5351, Test Accuracy: 0.7474\n",
      "Epoch 99/20: Test Loss: 0.5253, Test Accuracy: 0.7579\n",
      "Epoch 100/20: Test Loss: 0.5224, Test Accuracy: 0.7474\n"
     ]
    }
   ],
   "source": [
    "loss_function= nn.BCELoss() \n",
    "optimizer = optim.RMSprop(model.parameters(), lr=0.001)\n",
    "n_epochs = 100\n",
    "batch_size = 50\n",
    "least_loss=1\n",
    "for epoch in range(n_epochs):\n",
    "    for start in range(0, len(X_train), batch_size):\n",
    "                # take a batch\n",
    "                X_batch = X_train[start:start+batch_size]\n",
    "                y_batch = y_train[start:start+batch_size]\n",
    "                X_batch = torch.FloatTensor(X_batch)\n",
    "                y_batch = torch.FloatTensor(y_batch).reshape(-1, 1)\n",
    "                # forward pass\n",
    "                y_pred = model(X_batch)\n",
    "                loss = loss_function(y_pred, y_batch)\n",
    "                # backward pass\n",
    "                optimizer.zero_grad()\n",
    "                loss.backward()\n",
    "                # update weights\n",
    "                optimizer.step()\n",
    "    # Evaluate on test set\n",
    "    with torch.no_grad():\n",
    "        outputs = model(X_test)\n",
    "        test_loss = criterion(outputs, y_test)\n",
    "        test_acc = ((outputs.round() == y_test).float().mean()).item()\n",
    "\n",
    "    print(f\"Epoch {epoch+1}/{20}: Test Loss: {test_loss.item():.4f}, Test Accuracy: {test_acc:.4f}\")\n"
   ]
  },
  {
   "cell_type": "code",
   "execution_count": null,
   "metadata": {},
   "outputs": [],
   "source": []
  }
 ],
 "metadata": {
  "colab": {
   "provenance": []
  },
  "kernelspec": {
   "display_name": "Python 3 (ipykernel)",
   "language": "python",
   "name": "python3"
  },
  "language_info": {
   "codemirror_mode": {
    "name": "ipython",
    "version": 3
   },
   "file_extension": ".py",
   "mimetype": "text/x-python",
   "name": "python",
   "nbconvert_exporter": "python",
   "pygments_lexer": "ipython3",
   "version": "3.9.13"
  }
 },
 "nbformat": 4,
 "nbformat_minor": 1
}
